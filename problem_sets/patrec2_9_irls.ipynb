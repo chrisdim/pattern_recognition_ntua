{
 "cells": [
  {
   "cell_type": "markdown",
   "metadata": {
    "id": "AIuMPFM91eV-"
   },
   "source": [
    "# Άσκηση 2.9(γ): Iterative Reweighted Least Squares"
   ]
  },
  {
   "cell_type": "markdown",
   "metadata": {
    "id": "9_eBiPusfOyD"
   },
   "source": [
    "Σε πρώτο στάδιο, θα υλοποιήσουμε τον αλγόριθμο iterative reweighted least squares (IWLS) για multiclass logistic regression."
   ]
  },
  {
   "cell_type": "code",
   "execution_count": null,
   "metadata": {
    "id": "Cwk8fSsj1eDT"
   },
   "outputs": [],
   "source": [
    "import numpy as np\n",
    "import matplotlib.pyplot as plt\n",
    "from sklearn.preprocessing import OneHotEncoder\n",
    "from sklearn.metrics import accuracy_score"
   ]
  },
  {
   "cell_type": "markdown",
   "metadata": {
    "id": "FY9D5RbMfbBq"
   },
   "source": [
    "Αρχικά, διαβάζουμε τα δεδομένα εισόδου που αποτελούνται από διανύσματα δύο διαστάσεων, x1 και x2, τα οποία κατηγοριοποιούνται σε τρεις κλάσεις: 0, 1 και 2. Στα διανύσματα εισόδου Χ προσαυξάνουμε την διάσταση κατά ένα, ώστε x[0] = 1, προκειμένου να διευκολυνθούμε στις πράξεις με το bias των decision surfaces.\n",
    "\n",
    "Επιπλέον, ορίζουμε:\n",
    "- $Ν$: τον αριθμό των δειγμάτων εισόδου. Στην προκειμένη περίπτωση, έχουμε 120 δείγματα.\n",
    "- $Μ$: τον αριθμό των χαρακτηριστικών κάθε δείγματος. Στην προκειμένη περίπτωση, έχουμε 3 χαρακτηριστικά, με το πρώτο να είναι πάντα μονάδα για το bias.\n",
    "-$K$: τον αριθμό των κλάσεων του προβλήματος, στην προκειμένη περίπτωση 3."
   ]
  },
  {
   "cell_type": "code",
   "execution_count": null,
   "metadata": {
    "id": "ykzQyBIA1gW4"
   },
   "outputs": [],
   "source": [
    "# Read Data\n",
    "f = open('MLR.data',\"r\")\n",
    "lines = f.readlines() \n",
    "x1 = []\n",
    "x2 = []\n",
    "y = []\n",
    "for x in lines:\n",
    "    x1.append(float(x.split(' ')[0]))\n",
    "    x2.append(float(x.split(' ')[1]))\n",
    "    y.append(int(x.split(' ')[2][0]))\n",
    "f.close()"
   ]
  },
  {
   "cell_type": "code",
   "execution_count": null,
   "metadata": {
    "colab": {
     "base_uri": "https://localhost:8080/"
    },
    "id": "KVYokLnc1kAS",
    "outputId": "000c4fc0-a667-495f-e7b9-0f7b627d3281"
   },
   "outputs": [
    {
     "name": "stdout",
     "output_type": "stream",
     "text": [
      "(120, 3)\n"
     ]
    }
   ],
   "source": [
    "X = np.column_stack((np.ones(len(x1)),x1,x2)) # concatenate 1 for bias multiplication\n",
    "y = np.array(y)\n",
    "print(X.shape)\n",
    "N, M = X.shape\n",
    "K = len(np.unique(y)) # 3 classes"
   ]
  },
  {
   "cell_type": "markdown",
   "metadata": {
    "id": "kmBw1gYFhYr9"
   },
   "source": [
    "Έπειτα, για να ορίσουμε τις a-posteriori πιθανότητες του Multiclass Logistic Regression Classifier, χρησιμοποιούμε τη συνάρτηση softmax:\n",
    "$$p(C_k|φ_n) = y_{nk}(φ_n) = \\frac{exp^{w_k^Tφ_n}}{\\sum_{j=1}^{K}exp^{w_j^Tφ_n}}$$\n",
    "\n",
    "όπου $φ_n$: η συνάρτηση βάσης πάνω στo δείγμα $Χ_n$."
   ]
  },
  {
   "cell_type": "code",
   "execution_count": null,
   "metadata": {
    "id": "xtQ61JMA1o6N"
   },
   "outputs": [],
   "source": [
    "def softmax(x, w, Class):\n",
    "  numerator = np.exp(np.dot(w[Class,:], x))\n",
    "  denominator = 0.\n",
    "  for i in range(np.shape(w)[0]):\n",
    "    denominator += np.exp(np.dot(w[i,:], x))\n",
    "  return numerator/denominator"
   ]
  },
  {
   "cell_type": "code",
   "execution_count": null,
   "metadata": {
    "id": "CfGX4y2g1rP_"
   },
   "outputs": [],
   "source": [
    "def softmax_all(X, w, K = 3):\n",
    "  N = X.shape[0]\n",
    "  Y = np.zeros((N,K)) # samples x classes = N x K\n",
    "  for j in range(K):\n",
    "      for n in range(N):\n",
    "        Y[n,j] = softmax(X[n], w, Class = j)\n",
    "  return Y"
   ]
  },
  {
   "cell_type": "code",
   "execution_count": null,
   "metadata": {
    "id": "CHVK0NJa2KP_"
   },
   "outputs": [],
   "source": [
    "w = np.random.rand(K, M) # weight vectors KxM - one for each class"
   ]
  },
  {
   "cell_type": "markdown",
   "metadata": {
    "id": "5aq6XJCMj4WE"
   },
   "source": [
    "Έπειτα, χρησιμοποιούμε ένα 1-of-K coding scheme, με βάση το οποίο το target vector $t_n$ για ένα διάνυσμα χαρακτηριστικών $φ_n$ το οποίο ανήκει στην κλάση\n",
    "$C_k$ είναι ένα δυαδικό διάνυσμα με μηδέν όλα τα στοιχείο του, εκτός του k-οστού στοιχείου που είναι μονάδα."
   ]
  },
  {
   "cell_type": "code",
   "execution_count": null,
   "metadata": {
    "id": "qI38rx0o2OJE"
   },
   "outputs": [],
   "source": [
    "# One-Hot Encode Labels\n",
    "enc = OneHotEncoder()\n",
    "enc.fit(np.array(y).reshape(len(y), 1))\n",
    "T = enc.transform(np.array(y).reshape(len(y), 1)).toarray() # T: y one-hot encoded N x K"
   ]
  },
  {
   "cell_type": "markdown",
   "metadata": {
    "id": "WsNm_JAFkj5k"
   },
   "source": [
    "Ακολούθως, ορίζουμε τη συνάρτηση σφάλματος που λειτουργεί ως μετρική της επίδοσης του Logistic Regression Classifier. Η εν λόγω συνάρτηση $E(w)$, γνωστή και ως cross-entropy, είναι στην ουσία των log-likelihood των δειγμάτων εισόδου και ορίζεται ως:\n",
    "$$E(w_1, ..., w_K) = -lnp(T|w_1, ..., w_K) = -\\sum_{n=1}^{N} \\sum_{k=1}^{K}t_{nk}lny_{nk}$$"
   ]
  },
  {
   "cell_type": "code",
   "execution_count": null,
   "metadata": {
    "id": "aJp34cvk2TD3"
   },
   "outputs": [],
   "source": [
    "# Log-Likelihood Error Function\n",
    "def log_likelihood(x, y_enc, w, classes = 3):\n",
    "  E = 0\n",
    "\n",
    "  for n in range(x.shape[0]):\n",
    "    for k in range(classes):\n",
    "      ynk = softmax(x[n], w, Class = k)\n",
    "      E -= y_enc[n,k]*np.log(ynk)\n",
    "  \n",
    "  return E"
   ]
  },
  {
   "cell_type": "code",
   "execution_count": null,
   "metadata": {
    "colab": {
     "base_uri": "https://localhost:8080/"
    },
    "id": "0j489eX_2c_o",
    "outputId": "2d44cec7-b082-461d-fca1-039b561a2066"
   },
   "outputs": [
    {
     "name": "stdout",
     "output_type": "stream",
     "text": [
      "Random Weights: Log-Likelihood E =  127.04051855009493\n"
     ]
    }
   ],
   "source": [
    "w = np.random.rand(K, M)\n",
    "print('Random Weights: Log-Likelihood E = ', log_likelihood(X, T, w))"
   ]
  },
  {
   "cell_type": "markdown",
   "metadata": {
    "id": "mskZbHqAmJk7"
   },
   "source": [
    "Για την εκτέλεση του IRLS αλγορίθμου, ωστόσο, χρειαζόμαστε την **Hessian μήτρα** της συνάρτησης σφάλματος Ε. Η μήτρα αυτή είναι διαστάσεων $KM * KM$ και αποτελείται από επαναλαμβανόμενα μπλοκ διαστάσεων $M * M$, με το μπλοκ j,k να δίνεται ως:\n",
    "$$ \\nabla_{w_k}\\nabla_{w_j}E(w) = \\sum_{n=1}^{N}y_{nk}(I_{kj}-y_{nj})φ_nφ_n^T = Φ^ΤRΦ$$\n",
    "\n",
    "$R$: διαγώνιος πίνακας με στοιχεία $y_{nk}(I_{kj}-y_{nj})$ \\\\\n",
    "$Ι$: ο μοναδιαίος πίνακας"
   ]
  },
  {
   "cell_type": "code",
   "execution_count": null,
   "metadata": {
    "id": "Pp9Tgd-tGMDT"
   },
   "outputs": [],
   "source": [
    "def Hessian(X, w, K = 3):\n",
    "  N, M = X.shape\n",
    "  H = np.zeros((K*M,K*M))\n",
    "  I = np.eye(K)\n",
    "  Y = softmax_all(X, w)\n",
    "  for k in range(K):\n",
    "    for j in range(K):\n",
    "        # Diagonal R\n",
    "        R = np.zeros((N,N)) \n",
    "        for n in range(N):\n",
    "            R[n][n] = Y[n][k] * (I[k,j] - Y[n][j])\n",
    "\n",
    "        H[k*M:k*M+M, j*M:j*M+M] = np.dot( np.dot(X.T, R), X )\n",
    "  \n",
    "  return H # KM x KM"
   ]
  },
  {
   "cell_type": "markdown",
   "metadata": {
    "id": "NNuAc7NVodZT"
   },
   "source": [
    "Ομοίως, προσδιορίζουμε και την πρώτη παράγωγο της συνάρτησης Ε ως:\n",
    "$$\\nabla_{w_j} E(w) = \\sum_{n=1}^{N}(y_{nj} - t_{nj})φ_n$$"
   ]
  },
  {
   "cell_type": "code",
   "execution_count": null,
   "metadata": {
    "id": "XocdAaJp2sE7"
   },
   "outputs": [],
   "source": [
    "def GradientE(X, w, K = 3):\n",
    "  N, M = X.shape\n",
    "  grad_E = np.zeros((K,M)) # K x M\n",
    "  for j in range(K):\n",
    "    for n in range(N):\n",
    "      ynj = softmax(X[n],w, Class = j)\n",
    "      grad_E[j,:] += (ynj - T[n,j])*X[n]\n",
    "  \n",
    "  return grad_E"
   ]
  },
  {
   "cell_type": "markdown",
   "metadata": {
    "id": "jb_gmf5Ho889"
   },
   "source": [
    "Στο σημείο αυτό, τρέχουμε τον αλγόριθμο IRLS για Multiclass LR. Ο αλγόριθμος τρέχει επαναληπτικά (εδώ για 20 επαναλήψεις), και τα βάρη ανανεώνονται ως εξής:\n",
    "$$w^{new} = w^{old} - H^{-1}\\nabla_w E $$\n",
    "$$🠦w^{new} = w^{old} - (Φ^ΤRΦ)^{-1}Φ^Τ(y-t) $$"
   ]
  },
  {
   "cell_type": "code",
   "execution_count": null,
   "metadata": {
    "id": "xXBOBt116KK9"
   },
   "outputs": [],
   "source": [
    "# IRLS Algorithm\n",
    "w = np.ones((K, M)) # initialize with ones\n",
    "total_error = [] # Log-Likelihood Function\n",
    "\n",
    "for iteration in range(20):\n",
    "  gradE = GradientE(X, w) # K, M\n",
    "  H = Hessian(X, w) # KM x KM\n",
    "\n",
    "  # Newton-Raphson update\n",
    "  w = np.reshape(w,(K*M,1))\n",
    "  gradE = np.reshape(gradE, (K*M,1))\n",
    "  w -= np.dot(np.linalg.pinv(H), gradE)\n",
    "  w = np.reshape(w, (K,M))\n",
    "\n",
    "  total_error.append(log_likelihood(X,T,w)) # collect loss"
   ]
  },
  {
   "cell_type": "code",
   "execution_count": null,
   "metadata": {
    "colab": {
     "base_uri": "https://localhost:8080/"
    },
    "id": "ahi5iRceFD2s",
    "outputId": "a2c3c9ba-bc33-4ad9-f602-33055e8919b6"
   },
   "outputs": [
    {
     "name": "stdout",
     "output_type": "stream",
     "text": [
      "Weights After 20 Iterations of IRLS:\n",
      "[[ -0.55576221  -6.52705988   2.66298619]\n",
      " [-12.35573972   1.31499084  -4.16030782]\n",
      " [ 15.04372858  -4.48760453  -8.97792324]]\n"
     ]
    }
   ],
   "source": [
    "print('Weights After 20 Iterations of IRLS:')\n",
    "print(w)"
   ]
  },
  {
   "cell_type": "code",
   "execution_count": null,
   "metadata": {
    "colab": {
     "base_uri": "https://localhost:8080/"
    },
    "id": "_bALHS45E3MU",
    "outputId": "a73aba80-68bf-482d-f92e-4ce2e1e99cfb"
   },
   "outputs": [
    {
     "name": "stdout",
     "output_type": "stream",
     "text": [
      "Cross-Entropy Error after 20 Iterations of IRLS: 2.864611554360134e-07\n"
     ]
    }
   ],
   "source": [
    "print('Cross-Entropy Error after 20 Iterations of IRLS:', log_likelihood(X,T,w))"
   ]
  },
  {
   "cell_type": "code",
   "execution_count": null,
   "metadata": {
    "colab": {
     "base_uri": "https://localhost:8080/",
     "height": 279
    },
    "id": "KwOLKJsGKazK",
    "outputId": "6ed6fcd0-dc15-465f-ab3b-1be70aeb3d81"
   },
   "outputs": [
    {
     "data": {
      "image/png": "[encoded data removed]",
      "text/plain": [
       "<Figure size 432x288 with 1 Axes>"
      ]
     },
     "metadata": {
      "needs_background": "light"
     },
     "output_type": "display_data"
    }
   ],
   "source": [
    "plt.plot([i for i in range(1,21)], total_error, '-o')\n",
    "plt.xlabel('Iterations')\n",
    "plt.ylabel('Cross-Entropy Loss')\n",
    "plt.show()"
   ]
  },
  {
   "cell_type": "markdown",
   "metadata": {
    "id": "tCq_8C7yr4Xm"
   },
   "source": [
    "Ακολούθως, βλέπουμε τις επιφάνειες διαχωρισμού που χωρίζουν τα δείγματα στις τρεις κατηγορίες, με βάση τις ανανεωμένες τιμές των βαρών w μετά από 20 επαναλήψεις του IRLS αλγορίθμου."
   ]
  },
  {
   "cell_type": "code",
   "execution_count": null,
   "metadata": {
    "id": "Nzf8dbb9I1Ox"
   },
   "outputs": [],
   "source": [
    "# Function that predicts output class, given weights w\n",
    "def predict(X, w):\n",
    "  return np.argmax(softmax_all(X,w), axis = 1)"
   ]
  },
  {
   "cell_type": "code",
   "execution_count": null,
   "metadata": {
    "id": "vJE9dBhCC4Bs"
   },
   "outputs": [],
   "source": [
    "# Function to plot decision Surfaces (from python helper lab)\n",
    "def plot_clf(w, X, y, labels, clf = 'IRLS'):\n",
    "    fig, ax = plt.subplots()\n",
    "    # title for the plots\n",
    "    title = ('Decision surface of LR Classifier')\n",
    "    # Set-up grid for plotting.\n",
    "    X0, X1, X2 = X[:,0], X[:,1], X[:,2]\n",
    "    \n",
    "    x_min, x_max = X1.min() - 1, X1.max() + 1\n",
    "    y_min, y_max = X2.min() - 1, X2.max() + 1\n",
    "    xx, yy = np.meshgrid(np.arange(x_min, x_max, .05),\n",
    "                         np.arange(y_min, y_max, .05))\n",
    "    \n",
    "    if clf == 'IRLS': \n",
    "      Z = predict(np.column_stack((np.ones(len(xx.ravel())), np.c_[xx.ravel(), yy.ravel()])), w)\n",
    "    else:\n",
    "      Z = np.argmax(np.dot(np.column_stack((np.ones(len(xx.ravel())), np.c_[xx.ravel(), yy.ravel()])),w), axis=1)\n",
    "    Z = Z.reshape(xx.shape)\n",
    "    out = ax.contourf(xx, yy, Z, cmap=plt.cm.coolwarm, alpha=0.8)\n",
    "    \n",
    "    zeros = ax.scatter(\n",
    "        X1[y == 0], X2[y == 0],\n",
    "        c='blue', label=labels[0],\n",
    "        s=60, alpha=0.9, edgecolors='k')\n",
    "    ones = ax.scatter(\n",
    "        X1[y == 1], X2[y == 1],\n",
    "        c='red', label=labels[1], \n",
    "        s=60, alpha=0.9, edgecolors='k')\n",
    "    twos = ax.scatter(\n",
    "        X1[y == 2], X2[y == 2],\n",
    "        c='green', label=labels[2],\n",
    "        s=60, alpha=0.9, edgecolors='k')\n",
    "    \n",
    "    ax.set_ylabel('X2')\n",
    "    ax.set_xlabel('X1')\n",
    "    ax.set_xticks(())\n",
    "    ax.set_yticks(())\n",
    "    ax.set_title(title)\n",
    "    ax.legend()\n",
    "    plt.show()"
   ]
  },
  {
   "cell_type": "code",
   "execution_count": null,
   "metadata": {
    "colab": {
     "base_uri": "https://localhost:8080/",
     "height": 278
    },
    "id": "zPNEnSb9Dcj5",
    "outputId": "93b6315a-fcbb-4736-ce9d-cb9dfe0782cf"
   },
   "outputs": [
    {
     "data": {
      "image/png": "[encoded data removed]",
      "text/plain": [
       "<Figure size 432x288 with 1 Axes>"
      ]
     },
     "metadata": {},
     "output_type": "display_data"
    }
   ],
   "source": [
    "plot_clf(w, X, y, labels=['Class 1', 'Class 2', 'Class 3'])"
   ]
  },
  {
   "cell_type": "markdown",
   "metadata": {
    "id": "Hd5a3AvIt9jU"
   },
   "source": [
    "Παρατηρεί κανείς ότι οι τελικές ευθείες που ορίζουν τα βάρη w χωρίζουν τέλεια τα δείγματα εισόδου στις τρεις κλάσεις. Η επιτυχία αυτή μπορεί να ποσοτικοποιηθεί και με βάση την μετρική accuracy:"
   ]
  },
  {
   "cell_type": "code",
   "execution_count": null,
   "metadata": {
    "colab": {
     "base_uri": "https://localhost:8080/"
    },
    "id": "0cYeXLON_kBN",
    "outputId": "28212aa4-c0a5-4698-9e13-020ad4dabcca"
   },
   "outputs": [
    {
     "name": "stdout",
     "output_type": "stream",
     "text": [
      "IRLS Logistic Regression Accuracy = 100.0%\n"
     ]
    }
   ],
   "source": [
    "def score(X, w, y):\n",
    "  y_pred = predict(X,w)\n",
    "  acc = accuracy_score(y_pred, y)\n",
    "  return acc\n",
    "\n",
    "accuracy = score(X,w,y)\n",
    "print('IRLS Logistic Regression Accuracy = '+str(100*accuracy)+'%')"
   ]
  },
  {
   "cell_type": "markdown",
   "metadata": {
    "id": "Az4y6W8m5OR1"
   },
   "source": [
    "Παρατηρούμε ότι έχουμε ποσοστό ευστοχίας 100%."
   ]
  },
  {
   "cell_type": "markdown",
   "metadata": {
    "id": "o3dSk61m5VZ1"
   },
   "source": [
    "## Linear Regression with Sum-of-Squares Loss Function"
   ]
  },
  {
   "cell_type": "markdown",
   "metadata": {
    "id": "dkHc9SB28Jz-"
   },
   "source": [
    "Στο πρόβλημα γραμμικής πρόβλεψης με συνάρτηση κόστους την Sum-of-Squares ο Newton-Raphson τύπος ανανέωσης βαρών παίρνει σε μόλις ένα βήμα την μορφή:\n",
    "$$w^{new} = (Φ^ΤΦ)^{-1}Φ^Τt$$\n",
    "την οποία αναγνωρίζουμε ως τη κλασική λύση ελαχίστων τετραγώνων."
   ]
  },
  {
   "cell_type": "code",
   "execution_count": null,
   "metadata": {
    "colab": {
     "base_uri": "https://localhost:8080/"
    },
    "id": "JZF1bWJ6tUPp",
    "outputId": "27aecde9-5460-4f96-b2e6-923c1b4765d6"
   },
   "outputs": [
    {
     "name": "stdout",
     "output_type": "stream",
     "text": [
      "Weights of Linear Regression with S.o.S Function:\n",
      "[[ 0.30015285  0.12967629  0.57017086]\n",
      " [-0.05663662  0.08432925 -0.02769264]\n",
      " [ 0.12494785  0.01922407 -0.14417192]]\n"
     ]
    }
   ],
   "source": [
    "pseudo_inv = np.linalg.pinv(X)\n",
    "w_lin = np.dot(pseudo_inv,T)\n",
    "print('Weights of Linear Regression with S.o.S Function:')\n",
    "print(w_lin)"
   ]
  },
  {
   "cell_type": "markdown",
   "metadata": {
    "id": "NmDdMM6y9PWO"
   },
   "source": [
    "Παρουσιάζουμε στον χώρο τις τρεις ευθείες διαχωρισμού για τα άνωθι βάρη, καθώς και το ποσοστό ευστοχίας του ταξινομητή και την τιμή της συνάρτησης σφάλματος cross-entropy."
   ]
  },
  {
   "cell_type": "code",
   "execution_count": null,
   "metadata": {
    "colab": {
     "base_uri": "https://localhost:8080/",
     "height": 278
    },
    "id": "I61ki9Et53P3",
    "outputId": "0737913f-5fd7-4669-f01f-31b073e8dea4"
   },
   "outputs": [
    {
     "data": {
      "image/png": "[encoded data removed]",
      "text/plain": [
       "<Figure size 432x288 with 1 Axes>"
      ]
     },
     "metadata": {},
     "output_type": "display_data"
    }
   ],
   "source": [
    "plot_clf(w_lin, X, y, labels=['Class 1', 'Class 2', 'Class 3'], clf='Linear Regression')"
   ]
  },
  {
   "cell_type": "code",
   "execution_count": null,
   "metadata": {
    "colab": {
     "base_uri": "https://localhost:8080/"
    },
    "id": "nZ63HmL06E5Y",
    "outputId": "811c6b68-ece1-4cf8-8669-f16efb3ab144"
   },
   "outputs": [
    {
     "name": "stdout",
     "output_type": "stream",
     "text": [
      "Accuracy = 100.0 %\n"
     ]
    }
   ],
   "source": [
    "y_pred = np.argmax(np.dot(X, w_lin), axis=1)\n",
    "acc2 = accuracy_score(y_pred, y)\n",
    "print('Accuracy =',str(100*acc2),'%')"
   ]
  },
  {
   "cell_type": "markdown",
   "metadata": {
    "id": "bsFTDsh-ANQ0"
   },
   "source": [
    "Παρατηρούμε ότι η λύση της linear regression με συνάρτηση κόστους την Sum of Squares δίνει εξίσου ικανοποιητικά αποτελέσματα με τον αλγόριθμο IRLS (Accuracy = 100%). Οι ευθείες διαχωρισμού καταφέρνουν να χωρίσουν τα δείγματα στις 3 κλάσεις πλήρως."
   ]
  }
 ],
 "metadata": {
  "colab": {
   "collapsed_sections": [],
   "name": "patrec2.9_irls.ipynb",
   "provenance": []
  },
  "kernelspec": {
   "display_name": "Python 3",
   "language": "python",
   "name": "python3"
  },
  "language_info": {
   "codemirror_mode": {
    "name": "ipython",
    "version": 3
   },
   "file_extension": ".py",
   "mimetype": "text/x-python",
   "name": "python",
   "nbconvert_exporter": "python",
   "pygments_lexer": "ipython3",
   "version": "3.7.6"
  }
 },
 "nbformat": 4,
 "nbformat_minor": 1
}
