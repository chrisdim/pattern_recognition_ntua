{
 "cells": [
  {
   "cell_type": "markdown",
   "metadata": {
    "id": "-qb4z9-ZiQ__"
   },
   "source": [
    "# Άσκηση 2.1: SVM"
   ]
  },
  {
   "cell_type": "code",
   "execution_count": null,
   "metadata": {
    "id": "4Bug6jwyW3D-"
   },
   "outputs": [],
   "source": [
    "import numpy as np\n",
    "import matplotlib.pyplot as plt\n",
    "from scipy.optimize import minimize"
   ]
  },
  {
   "cell_type": "markdown",
   "metadata": {
    "id": "ncYh3cS-iUtH"
   },
   "source": [
    "## Ερώτημα (α)"
   ]
  },
  {
   "cell_type": "markdown",
   "metadata": {
    "id": "UN3_IGaLw4SK"
   },
   "source": [
    "Αρχικά, σχεδιάζουμε σε γράφημα τα σημεία εισόδου και παρατηρούμε ότι δεν είναι γραμμικά διαχωρίσιμα. Για τον λόγο αυτό, μετατρέπουμε τα διανύσματα $\\tilde{x}_n$ σε έναν χώρο υψηλότερων διαστάσεων, $y_n = ϕ(\\tilde{x}_n)$, χρησιμοποιώντας την εξής μορφή ϕ-functions 2ης τάξης: \n",
    "$$ϕ(x_1, x_2) = \\Big[1 \\;\\; \\tilde{y}\\Big] = \\Big[1\\;\\; x_1\\;\\; x_2\\;\\; \\frac{x_1^2+x_2^2-5}{3}\\Big]^T$$"
   ]
  },
  {
   "cell_type": "code",
   "execution_count": null,
   "metadata": {
    "colab": {
     "base_uri": "https://localhost:8080/",
     "height": 279
    },
    "id": "_dpJFqKuW8mp",
    "outputId": "741b17f4-23b1-4508-b402-ad679cdb4f19"
   },
   "outputs": [
    {
     "data": {
      "image/png": "[encoded data removed]",
      "text/plain": [
       "<Figure size 432x288 with 1 Axes>"
      ]
     },
     "metadata": {
      "needs_background": "light"
     },
     "output_type": "display_data"
    }
   ],
   "source": [
    "# Plot Points of two Classes\n",
    "W1 = [(3,3),(2,-2),(-3,-2),(-2,3)]          # w1 class\n",
    "W2 = [(1,1),(0.5,-0.5),(-0.5,-0.5),(-1,1)]  # w2 class\n",
    "\n",
    "def coords(data):\n",
    "    xs, ys = [], []\n",
    "    for point in data:\n",
    "        xs.append(point[0])\n",
    "        ys.append(point[1])\n",
    "    return xs, ys\n",
    "\n",
    "W1_x, W1_y = coords(W1)\n",
    "plt.figure()\n",
    "plt.grid()\n",
    "plt.scatter(W1_x, W1_y, color='b', label = 'Class w1')\n",
    "\n",
    "W2_x, W2_y = coords(W2)\n",
    "plt.scatter(W2_x, W2_y, color='r', label = 'Class w2')\n",
    "\n",
    "N = 3\n",
    "plt.xticks(np.arange(-N, N+1, 1))\n",
    "plt.yticks(np.arange(-N, N+1, 1))\n",
    "plt.xlabel('x1')\n",
    "plt.ylabel('x2')\n",
    "plt.legend()\n",
    "plt.show()"
   ]
  },
  {
   "cell_type": "code",
   "execution_count": null,
   "metadata": {
    "colab": {
     "base_uri": "https://localhost:8080/"
    },
    "id": "kzjwZ2A1XaX_",
    "outputId": "2eab667c-bd44-4efa-ea76-2b1b1077fb49"
   },
   "outputs": [
    {
     "name": "stdout",
     "output_type": "stream",
     "text": [
      "W1 Class\n",
      "[1, 3, 3, 4.333333333333333]\n",
      "[1, 2, -2, 1.0]\n",
      "[1, -3, -2, 2.6666666666666665]\n",
      "[1, -2, 3, 2.6666666666666665]\n",
      "\n",
      "W2 Class\n",
      "[1, 1, 1, -1.0]\n",
      "[1, 0.5, -0.5, -1.5]\n",
      "[1, -0.5, -0.5, -1.5]\n",
      "[1, -1, 1, -1.0]\n"
     ]
    }
   ],
   "source": [
    "# Map to Higher Dimensionality\n",
    "def fi_function(x):\n",
    "  return [1, x[0], x[1], ((x[0])**2 + (x[1])**2 - 5)/3]\n",
    "\n",
    "new_w1 = []\n",
    "new_w2 = []\n",
    "print('W1 Class')\n",
    "for sample in W1:\n",
    "  new_w1.append(np.array(fi_function(sample)))\n",
    "  print(fi_function(sample))\n",
    "\n",
    "print('\\nW2 Class')\n",
    "for sample in W2:\n",
    "  new_w2.append(np.array(fi_function(sample)))\n",
    "  print(fi_function(sample))"
   ]
  },
  {
   "cell_type": "markdown",
   "metadata": {
    "id": "sOMMDhNGirR-"
   },
   "source": [
    "## Ερώτημα (β)"
   ]
  },
  {
   "cell_type": "markdown",
   "metadata": {
    "id": "7mQfEtqlJP8q"
   },
   "source": [
    "Ακολούθως, με βάση το υποκεφάλαιο 5.11.1  [2], [5, SVM] προβαίνουμε στη μεγιστοποίηση του παρακάτω συναρτησιακού:\n",
    "\n",
    "$$L({\\alpha}) = \\sum_{k=1}^{N}\\alpha_i - \\frac{1}{2}\\sum_{k,j}^{N}\\alpha_k\\alpha_jz_kz_j\\mathbf{y}_j^t\\mathbf{y}_k$$\n",
    "\n",
    "υπό τους περιοσισμούς:\n",
    "\n",
    "$$\\sum_{k=1}^{N}z_k\\alpha_k = 0 \\qquad \\text{και} \\qquad \\alpha_k \\geq 0, k = 1,\\dots,N$$"
   ]
  },
  {
   "cell_type": "code",
   "execution_count": null,
   "metadata": {
    "id": "WnjJkLWOjY7S"
   },
   "outputs": [],
   "source": [
    "# Collec all samples in the new dimensional space\n",
    "y = new_w1 + new_w2\n",
    "z = [-1 for i in range(len(new_w1))] + [1 for i in range(len(new_w2))]"
   ]
  },
  {
   "cell_type": "code",
   "execution_count": null,
   "metadata": {
    "id": "_OTpp5jJigt2"
   },
   "outputs": [],
   "source": [
    "def L(a): # Cost Function\n",
    "  result = 0\n",
    "  for i in range(len(z)):\n",
    "    result += a[i]\n",
    "  \n",
    "  for i in range(len(z)):\n",
    "    for j in range(len(z)):\n",
    "      result -= 0.5*a[i]*a[j]*z[i]*z[j]*np.dot(y[i],y[j])\n",
    "  \n",
    "  return -result"
   ]
  },
  {
   "cell_type": "code",
   "execution_count": null,
   "metadata": {
    "id": "zy2QHEjoj7jy"
   },
   "outputs": [],
   "source": [
    "# Constrains on a_i\n",
    "cons = ({'type': 'eq', 'fun': lambda a:  np.dot(z,a)},\n",
    "        {'type': 'ineq', 'fun': lambda a: a[0]},\n",
    "        {'type': 'ineq', 'fun': lambda a: a[1]},\n",
    "        {'type': 'ineq', 'fun': lambda a: a[2]},\n",
    "        {'type': 'ineq', 'fun': lambda a: a[3]},\n",
    "        {'type': 'ineq', 'fun': lambda a: a[4]},\n",
    "        {'type': 'ineq', 'fun': lambda a: a[5]},\n",
    "        {'type': 'ineq', 'fun': lambda a: a[6]},\n",
    "        {'type': 'ineq', 'fun': lambda a: a[7]}\n",
    "        )"
   ]
  },
  {
   "cell_type": "code",
   "execution_count": null,
   "metadata": {
    "id": "0lby6Czqj8R6"
   },
   "outputs": [],
   "source": [
    "res = minimize(L, (0,0,0,0,0,0,0,0),\n",
    "               constraints=cons)"
   ]
  },
  {
   "cell_type": "code",
   "execution_count": null,
   "metadata": {
    "colab": {
     "base_uri": "https://localhost:8080/"
    },
    "id": "MamZJomrpqKO",
    "outputId": "e6024801-ca2a-4619-fcf7-8740012b710f"
   },
   "outputs": [
    {
     "data": {
      "text/plain": [
       "     fun: -0.2469135792544758\n",
       "     jac: array([ 1.22247892,  0.11110054,  1.22219016,  0.11125482, -0.11112959,\n",
       "       -0.11106048, -0.11104704, -0.11110269])\n",
       " message: 'Optimization terminated successfully.'\n",
       "    nfev: 63\n",
       "     nit: 6\n",
       "    njev: 6\n",
       "  status: 0\n",
       " success: True\n",
       "       x: array([-1.05270438e-17,  1.53551012e-01, -3.44416410e-16,  9.33680919e-02,\n",
       "        1.66516910e-01,  1.69953160e-02,  1.74894126e-02,  4.59174647e-02])"
      ]
     },
     "execution_count": 9,
     "metadata": {},
     "output_type": "execute_result"
    }
   ],
   "source": [
    "res"
   ]
  },
  {
   "cell_type": "code",
   "execution_count": null,
   "metadata": {
    "colab": {
     "base_uri": "https://localhost:8080/"
    },
    "id": "PFI_9GRpqFKG",
    "outputId": "1590ec4a-6510-4543-9021-272d87dbed37"
   },
   "outputs": [
    {
     "name": "stdout",
     "output_type": "stream",
     "text": [
      "[-0.      0.1536 -0.      0.0934  0.1665  0.017   0.0175  0.0459]\n"
     ]
    }
   ],
   "source": [
    "# Optimal a_i\n",
    "a_opt = np.round(res.x,4)\n",
    "print(a_opt) # a_i >= 0 for each i "
   ]
  },
  {
   "cell_type": "code",
   "execution_count": null,
   "metadata": {
    "colab": {
     "base_uri": "https://localhost:8080/"
    },
    "id": "SMVnFVims1ek",
    "outputId": "8513af12-6e49-4aed-ebe9-35b32dd6d724"
   },
   "outputs": [
    {
     "data": {
      "text/plain": [
       "True"
      ]
     },
     "execution_count": 11,
     "metadata": {},
     "output_type": "execute_result"
    }
   ],
   "source": [
    "0 == np.round(np.dot(z, a_opt),3) # constraints satisfied"
   ]
  },
  {
   "cell_type": "markdown",
   "metadata": {
    "id": "qiR8lvG9L1EK"
   },
   "source": [
    "Παρατηρούμε ότι ικανοποιούνται οι περιορισμοί του προβλήματος βελιστοποίησης."
   ]
  },
  {
   "cell_type": "markdown",
   "metadata": {
    "id": "tqCNfuKHvM05"
   },
   "source": [
    "## Ερώτημα (γ)"
   ]
  },
  {
   "cell_type": "markdown",
   "metadata": {
    "id": "4va7SLcgMAqD"
   },
   "source": [
    "Το ζητούμενο διάνυσμα βαρών δίνεται από τη σχέση: $$\\tilde{w} = \\sum_{i=1}^{N}a_iz_i\\tilde{y_i}$$"
   ]
  },
  {
   "cell_type": "code",
   "execution_count": null,
   "metadata": {
    "id": "7UbvFRzptTff"
   },
   "outputs": [],
   "source": [
    "weights = []\n",
    "for j in range(1,len(y[1])):\n",
    "  w = 0\n",
    "  for i in range(len(z)):\n",
    "      w += a_opt[i] * z[i] * y[i][j]\n",
    "  weights.append(w)"
   ]
  },
  {
   "cell_type": "code",
   "execution_count": null,
   "metadata": {
    "colab": {
     "base_uri": "https://localhost:8080/"
    },
    "id": "eWZGkXsGt1n7",
    "outputId": "e4c57cf2-7366-4cdb-bc08-8d65846d463b"
   },
   "outputs": [
    {
     "name": "stdout",
     "output_type": "stream",
     "text": [
      "[-4.999999999997368e-05, 0.22214999999999996, -0.6668166666666666]\n"
     ]
    }
   ],
   "source": [
    "print(weights)"
   ]
  },
  {
   "cell_type": "markdown",
   "metadata": {
    "id": "55QWnSxdMF0a"
   },
   "source": [
    "Ακολούθως, προσδιορίζουμε το bias $w_0$ χρησιμοποιώντας το support vector $y_2$ (για το οποίο ισχύει $α_2 > 0$) στην ακόλουθη σχέση:\n",
    "$$z_{2}(\\tilde{w}\\cdot \\tilde{y_{2}} + w_0) - 1 = 0$$\n",
    "από την οποία προκύπτει:\n",
    "$$w_0 = \\frac{1}{z_{2}}-\\tilde{w}\\cdot \\tilde{y}_{2}$$\n"
   ]
  },
  {
   "cell_type": "code",
   "execution_count": null,
   "metadata": {
    "id": "yvowYH2Tvm4y"
   },
   "outputs": [],
   "source": [
    "w0 = (1/z[1]) - np.dot(weights, y[1][1:]) # sample y2 is a Support Vector since a2 > 0"
   ]
  },
  {
   "cell_type": "code",
   "execution_count": null,
   "metadata": {
    "colab": {
     "base_uri": "https://localhost:8080/"
    },
    "id": "kps42mJWxgSt",
    "outputId": "e3b252d5-23dd-4f7e-e0b8-60393bbbcac1"
   },
   "outputs": [
    {
     "name": "stdout",
     "output_type": "stream",
     "text": [
      "[0.11121666666666652, -4.999999999997368e-05, 0.22214999999999996, -0.6668166666666666]\n"
     ]
    }
   ],
   "source": [
    "# Total Weight Vector with bias\n",
    "weights = [w0] + weights\n",
    "print(weights)"
   ]
  },
  {
   "cell_type": "markdown",
   "metadata": {
    "id": "VbbIUSTSM0In"
   },
   "source": [
    "Έπειτα, για το διάνυσμα w που βρήκαμε, ελέγχουμε ότι ισχύουν οι προϋποθέσεις $z_n\\mathbf{w}^{T}\\mathbf{y}_n \\geq 1 \\;\\;\\; (n=1,\\dots,N)$:"
   ]
  },
  {
   "cell_type": "code",
   "execution_count": null,
   "metadata": {
    "colab": {
     "base_uri": "https://localhost:8080/"
    },
    "id": "21Wx7ZBxT-um",
    "outputId": "9495645b-f482-4ecd-fe42-c0962caa405d"
   },
   "outputs": [
    {
     "name": "stdout",
     "output_type": "stream",
     "text": [
      "True\n",
      "True\n",
      "True\n",
      "True\n",
      "True\n",
      "True\n",
      "True\n",
      "True\n"
     ]
    }
   ],
   "source": [
    "for i in range(len(z)):\n",
    "  print(z[i]*np.dot(weights, y[i])>=1)"
   ]
  },
  {
   "cell_type": "markdown",
   "metadata": {
    "id": "VeYPjIifXi8c"
   },
   "source": [
    "## Ερώτημα (δ)"
   ]
  },
  {
   "cell_type": "markdown",
   "metadata": {
    "id": "wc6g6UtIOI0y"
   },
   "source": [
    "Το margin $\\beta$ δίνεται από τον τύπο: $\\beta = \\frac{1}{|\\tilde{w}|}$"
   ]
  },
  {
   "cell_type": "code",
   "execution_count": null,
   "metadata": {
    "colab": {
     "base_uri": "https://localhost:8080/"
    },
    "id": "gg_O-AauXmZe",
    "outputId": "992ac3be-f75f-4411-f58b-e6784e18f8f0"
   },
   "outputs": [
    {
     "name": "stdout",
     "output_type": "stream",
     "text": [
      "Margin b = 1.4227830509919526\n"
     ]
    }
   ],
   "source": [
    "b = 1/(np.linalg.norm(weights[1:]))\n",
    "print('Margin b =', b)"
   ]
  },
  {
   "cell_type": "markdown",
   "metadata": {
    "id": "cuiIiB3FYIVv"
   },
   "source": [
    "## Ερώτημα (ε)"
   ]
  },
  {
   "cell_type": "markdown",
   "metadata": {
    "id": "kJNXYPovNWGD"
   },
   "source": [
    "Βρίσκουμε τη συνάρτηση διαχωρισμού $g(x_1,x_2) = \\mathbf{w}^Τ\\phi(x_1,x_2)$ στον αρχικό χώρο $x_1-x_2$ και σχεδιάζουμε την καμπύλη $g(x_1,x_2)=0$ μαζί με τα 8 αρχικά σημεία."
   ]
  },
  {
   "cell_type": "code",
   "execution_count": null,
   "metadata": {
    "id": "KpyX_5dxWNIF"
   },
   "outputs": [],
   "source": [
    "x1 = np.linspace(-4, 4, 500)\n",
    "x2 = np.linspace(-4, 4, 500)\n",
    "X, Y = np.meshgrid(x1, x2)\n",
    "g = weights[0] + weights[1]*X + weights[2]*Y + weights[3]*(X**2+Y**2-5)/3"
   ]
  },
  {
   "cell_type": "code",
   "execution_count": null,
   "metadata": {
    "colab": {
     "base_uri": "https://localhost:8080/",
     "height": 283
    },
    "id": "rFEBi6TiylRy",
    "outputId": "0307a1c0-325e-43e9-9b62-0b958be39a57"
   },
   "outputs": [
    {
     "data": {
      "image/png": "[encoded data removed]",
      "text/plain": [
       "<Figure size 432x288 with 1 Axes>"
      ]
     },
     "metadata": {
      "needs_background": "light"
     },
     "output_type": "display_data"
    }
   ],
   "source": [
    "plt.figure()\n",
    "plt.grid()\n",
    "plt.scatter(W1_x, W1_y, color='b', label = 'Class w1')\n",
    "plt.scatter(W2_x, W2_y, color='r', label = 'Class w2')\n",
    "plt.xlabel('x1')\n",
    "plt.ylabel('x2')\n",
    "plt.contour(X, Y, g, levels=[0])\n",
    "plt.legend()\n",
    "plt.show()"
   ]
  },
  {
   "cell_type": "markdown",
   "metadata": {
    "id": "5fewVxGZZkK9"
   },
   "source": [
    "## Ερώτημα (στ)"
   ]
  },
  {
   "cell_type": "markdown",
   "metadata": {
    "id": "jC6CgAiFNzur"
   },
   "source": [
    "Τα Support Vectors είναι τα σημεία με συντελεστή Lagrange αυστηρώς θετικό ($α_i > 0$), δηλαδή όλα εκτός από τα $x_1$ και $x_3$."
   ]
  },
  {
   "cell_type": "code",
   "execution_count": null,
   "metadata": {
    "colab": {
     "base_uri": "https://localhost:8080/"
    },
    "id": "T6hJ4Kz1zJE3",
    "outputId": "7adfcefa-8fc4-4f82-dcc7-e027fca38ed3"
   },
   "outputs": [
    {
     "name": "stdout",
     "output_type": "stream",
     "text": [
      "Sample y1 is NOT a Support Vector, since a1 = 0\n",
      "Sample y2 is a Support Vector, since a2 = 0.1536 > 0\n",
      "Sample y3 is NOT a Support Vector, since a3 = 0\n",
      "Sample y4 is a Support Vector, since a4 = 0.0934 > 0\n",
      "Sample y5 is a Support Vector, since a5 = 0.1665 > 0\n",
      "Sample y6 is a Support Vector, since a6 = 0.017 > 0\n",
      "Sample y7 is a Support Vector, since a7 = 0.0175 > 0\n",
      "Sample y8 is a Support Vector, since a8 = 0.0459 > 0\n"
     ]
    }
   ],
   "source": [
    "for i in range(len(y)):\n",
    "  if (a_opt[i]>0):\n",
    "    print('Sample y'+str(i+1)+' is a Support Vector, since a'+str(i+1)+' = '+str(a_opt[i])+' > 0')\n",
    "  else:\n",
    "    print('Sample y'+str(i+1)+' is NOT a Support Vector, since a'+str(i+1)+' = 0')"
   ]
  },
  {
   "cell_type": "markdown",
   "metadata": {
    "id": "xhT5OPjmaWO-"
   },
   "source": [
    "## Ερώτημα (ζ)"
   ]
  },
  {
   "cell_type": "code",
   "execution_count": null,
   "metadata": {
    "id": "V0yQJKIbaCoA"
   },
   "outputs": [],
   "source": [
    "new_samples = [(np.sqrt(2), np.sqrt(2)), (-2, 3)]"
   ]
  },
  {
   "cell_type": "code",
   "execution_count": null,
   "metadata": {
    "colab": {
     "base_uri": "https://localhost:8080/",
     "height": 283
    },
    "id": "8utR_Pkhacbk",
    "outputId": "30baab5f-929e-436e-97e5-e8ad9a417ecb"
   },
   "outputs": [
    {
     "data": {
      "image/png": "[encoded data removed]",
      "text/plain": [
       "<Figure size 432x288 with 1 Axes>"
      ]
     },
     "metadata": {
      "needs_background": "light"
     },
     "output_type": "display_data"
    }
   ],
   "source": [
    "plt.figure()\n",
    "plt.grid()\n",
    "plt.scatter(new_samples[0][0], new_samples[0][1], color='r', label = 'Class w2')\n",
    "plt.scatter(new_samples[1][0], new_samples[1][1], color='b', label = 'Class w1')\n",
    "plt.xlabel('x1')\n",
    "plt.ylabel('x2')\n",
    "plt.contour(X, Y, g, levels=[0])\n",
    "plt.legend()\n",
    "plt.show()"
   ]
  },
  {
   "cell_type": "code",
   "execution_count": null,
   "metadata": {
    "colab": {
     "base_uri": "https://localhost:8080/"
    },
    "id": "qxGR_0JqbaLc",
    "outputId": "92ea48ac-2b2f-4465-ccee-6936576c35a0"
   },
   "outputs": [
    {
     "name": "stdout",
     "output_type": "stream",
     "text": [
      "0.6475857210919529\n",
      "-1.0004111111111111\n"
     ]
    }
   ],
   "source": [
    "print(np.dot(weights, fi_function(new_samples[0]))) # > 0 --> Class w2\n",
    "print(np.dot(weights, fi_function(new_samples[1]))) # < 0 --> Class w1"
   ]
  },
  {
   "cell_type": "markdown",
   "metadata": {
    "id": "jvu3zSt_N6fS"
   },
   "source": [
    "Συνεπώς, ο SVM Classifier ταξινομεί το $\\Big(\\sqrt{2} \\;\\; \\sqrt{2}\\Big)^T$ στην κλάση $\\omega_2$ και το $\\Big(-2 \\;\\; 3\\Big)^T$ στην κλάση $\\omega_1$."
   ]
  }
 ],
 "metadata": {
  "colab": {
   "collapsed_sections": [],
   "name": "patrec_2.1.ipynb",
   "provenance": []
  },
  "kernelspec": {
   "display_name": "Python 3",
   "language": "python",
   "name": "python3"
  },
  "language_info": {
   "codemirror_mode": {
    "name": "ipython",
    "version": 3
   },
   "file_extension": ".py",
   "mimetype": "text/x-python",
   "name": "python",
   "nbconvert_exporter": "python",
   "pygments_lexer": "ipython3",
   "version": "3.7.6"
  }
 },
 "nbformat": 4,
 "nbformat_minor": 1
}
